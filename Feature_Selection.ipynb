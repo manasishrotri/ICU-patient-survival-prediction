{
  "nbformat": 4,
  "nbformat_minor": 0,
  "metadata": {
    "colab": {
      "name": "Feature Selection.ipynb",
      "provenance": []
    },
    "kernelspec": {
      "name": "python3",
      "display_name": "Python 3"
    }
  },
  "cells": [
    {
      "cell_type": "code",
      "metadata": {
        "id": "mjeWodmqFIjB"
      },
      "source": [
        "import pandas as pd\n",
        "training_v2 = pd.read_csv(\"/content/drive/My Drive/Colab Notebooks/training_v2.csv\")\n",
        "test = pd.read_csv(\"/content/drive/My Drive/Colab Notebooks/unlabeled.csv\")\n"
      ],
      "execution_count": null,
      "outputs": []
    },
    {
      "cell_type": "code",
      "metadata": {
        "id": "B_h6p6CMG_eS"
      },
      "source": [
        "import numpy as np # linear algebra\n",
        "import pandas as pd # data processing, CSV file I/O (e.g. pd.read_csv)\n",
        "from sklearn.impute import SimpleImputer\n",
        "import seaborn as sns\n",
        "import matplotlib.pyplot as plt\n",
        "from sklearn.model_selection import train_test_split\n",
        "import lightgbm as lgb\n",
        "from sklearn.model_selection import train_test_split\n",
        "from sklearn.model_selection import KFold\n",
        "from sklearn.metrics import roc_auc_score\n",
        "from sklearn.preprocessing import LabelEncoder\n",
        "\n",
        "%matplotlib inline"
      ],
      "execution_count": null,
      "outputs": []
    },
    {
      "cell_type": "code",
      "metadata": {
        "id": "SQuhOO3tHImU"
      },
      "source": [
        "y = training_v2['hospital_death']\n",
        "X = training_v2.copy()\n",
        "X = training_v2.drop('hospital_death',axis = 1)\n",
        "X1 = training_v2.drop('hospital_death',axis = 1)"
      ],
      "execution_count": null,
      "outputs": []
    },
    {
      "cell_type": "code",
      "metadata": {
        "id": "2HmtoDF2HP-F",
        "outputId": "77e239a9-ae48-497d-ddb4-05096bbe4cd8",
        "colab": {
          "base_uri": "https://localhost:8080/",
          "height": 251
        }
      },
      "source": [
        "threshold = 0.9\n",
        "\n",
        "# Absolute value correlation matrix\n",
        "corr_matrix = X.corr().abs()\n",
        "corr_matrix.head()"
      ],
      "execution_count": null,
      "outputs": [
        {
          "output_type": "execute_result",
          "data": {
            "text/html": [
              "<div>\n",
              "<style scoped>\n",
              "    .dataframe tbody tr th:only-of-type {\n",
              "        vertical-align: middle;\n",
              "    }\n",
              "\n",
              "    .dataframe tbody tr th {\n",
              "        vertical-align: top;\n",
              "    }\n",
              "\n",
              "    .dataframe thead th {\n",
              "        text-align: right;\n",
              "    }\n",
              "</style>\n",
              "<table border=\"1\" class=\"dataframe\">\n",
              "  <thead>\n",
              "    <tr style=\"text-align: right;\">\n",
              "      <th></th>\n",
              "      <th>encounter_id</th>\n",
              "      <th>patient_id</th>\n",
              "      <th>hospital_id</th>\n",
              "      <th>age</th>\n",
              "      <th>bmi</th>\n",
              "      <th>elective_surgery</th>\n",
              "      <th>height</th>\n",
              "      <th>icu_id</th>\n",
              "      <th>pre_icu_los_days</th>\n",
              "      <th>readmission_status</th>\n",
              "      <th>weight</th>\n",
              "      <th>albumin_apache</th>\n",
              "      <th>apache_2_diagnosis</th>\n",
              "      <th>apache_3j_diagnosis</th>\n",
              "      <th>apache_post_operative</th>\n",
              "      <th>arf_apache</th>\n",
              "      <th>bilirubin_apache</th>\n",
              "      <th>bun_apache</th>\n",
              "      <th>creatinine_apache</th>\n",
              "      <th>fio2_apache</th>\n",
              "      <th>gcs_eyes_apache</th>\n",
              "      <th>gcs_motor_apache</th>\n",
              "      <th>gcs_unable_apache</th>\n",
              "      <th>gcs_verbal_apache</th>\n",
              "      <th>glucose_apache</th>\n",
              "      <th>heart_rate_apache</th>\n",
              "      <th>hematocrit_apache</th>\n",
              "      <th>intubated_apache</th>\n",
              "      <th>map_apache</th>\n",
              "      <th>paco2_apache</th>\n",
              "      <th>paco2_for_ph_apache</th>\n",
              "      <th>pao2_apache</th>\n",
              "      <th>ph_apache</th>\n",
              "      <th>resprate_apache</th>\n",
              "      <th>sodium_apache</th>\n",
              "      <th>temp_apache</th>\n",
              "      <th>urineoutput_apache</th>\n",
              "      <th>ventilated_apache</th>\n",
              "      <th>wbc_apache</th>\n",
              "      <th>d1_diasbp_invasive_max</th>\n",
              "      <th>...</th>\n",
              "      <th>h1_hematocrit_max</th>\n",
              "      <th>h1_hematocrit_min</th>\n",
              "      <th>h1_inr_max</th>\n",
              "      <th>h1_inr_min</th>\n",
              "      <th>h1_lactate_max</th>\n",
              "      <th>h1_lactate_min</th>\n",
              "      <th>h1_platelets_max</th>\n",
              "      <th>h1_platelets_min</th>\n",
              "      <th>h1_potassium_max</th>\n",
              "      <th>h1_potassium_min</th>\n",
              "      <th>h1_sodium_max</th>\n",
              "      <th>h1_sodium_min</th>\n",
              "      <th>h1_wbc_max</th>\n",
              "      <th>h1_wbc_min</th>\n",
              "      <th>d1_arterial_pco2_max</th>\n",
              "      <th>d1_arterial_pco2_min</th>\n",
              "      <th>d1_arterial_ph_max</th>\n",
              "      <th>d1_arterial_ph_min</th>\n",
              "      <th>d1_arterial_po2_max</th>\n",
              "      <th>d1_arterial_po2_min</th>\n",
              "      <th>d1_pao2fio2ratio_max</th>\n",
              "      <th>d1_pao2fio2ratio_min</th>\n",
              "      <th>h1_arterial_pco2_max</th>\n",
              "      <th>h1_arterial_pco2_min</th>\n",
              "      <th>h1_arterial_ph_max</th>\n",
              "      <th>h1_arterial_ph_min</th>\n",
              "      <th>h1_arterial_po2_max</th>\n",
              "      <th>h1_arterial_po2_min</th>\n",
              "      <th>h1_pao2fio2ratio_max</th>\n",
              "      <th>h1_pao2fio2ratio_min</th>\n",
              "      <th>apache_4a_hospital_death_prob</th>\n",
              "      <th>apache_4a_icu_death_prob</th>\n",
              "      <th>aids</th>\n",
              "      <th>cirrhosis</th>\n",
              "      <th>diabetes_mellitus</th>\n",
              "      <th>hepatic_failure</th>\n",
              "      <th>immunosuppression</th>\n",
              "      <th>leukemia</th>\n",
              "      <th>lymphoma</th>\n",
              "      <th>solid_tumor_with_metastasis</th>\n",
              "    </tr>\n",
              "  </thead>\n",
              "  <tbody>\n",
              "    <tr>\n",
              "      <th>encounter_id</th>\n",
              "      <td>1.000000</td>\n",
              "      <td>0.009575</td>\n",
              "      <td>0.004532</td>\n",
              "      <td>0.003990</td>\n",
              "      <td>0.001068</td>\n",
              "      <td>0.002036</td>\n",
              "      <td>0.005400</td>\n",
              "      <td>0.000992</td>\n",
              "      <td>0.000570</td>\n",
              "      <td>NaN</td>\n",
              "      <td>0.004376</td>\n",
              "      <td>0.006262</td>\n",
              "      <td>0.000113</td>\n",
              "      <td>0.000651</td>\n",
              "      <td>0.001138</td>\n",
              "      <td>0.007920</td>\n",
              "      <td>0.002198</td>\n",
              "      <td>0.002619</td>\n",
              "      <td>0.005435</td>\n",
              "      <td>0.000824</td>\n",
              "      <td>0.003276</td>\n",
              "      <td>0.007664</td>\n",
              "      <td>0.002400</td>\n",
              "      <td>0.006516</td>\n",
              "      <td>0.002108</td>\n",
              "      <td>0.001718</td>\n",
              "      <td>0.001566</td>\n",
              "      <td>0.003172</td>\n",
              "      <td>0.000759</td>\n",
              "      <td>0.015002</td>\n",
              "      <td>0.015002</td>\n",
              "      <td>0.001088</td>\n",
              "      <td>0.005632</td>\n",
              "      <td>0.006498</td>\n",
              "      <td>0.007004</td>\n",
              "      <td>0.005162</td>\n",
              "      <td>0.009225</td>\n",
              "      <td>0.005775</td>\n",
              "      <td>0.009363</td>\n",
              "      <td>0.013306</td>\n",
              "      <td>...</td>\n",
              "      <td>0.000730</td>\n",
              "      <td>0.001471</td>\n",
              "      <td>0.006878</td>\n",
              "      <td>0.005783</td>\n",
              "      <td>0.009662</td>\n",
              "      <td>0.008953</td>\n",
              "      <td>0.003963</td>\n",
              "      <td>0.003424</td>\n",
              "      <td>0.003539</td>\n",
              "      <td>0.005155</td>\n",
              "      <td>0.011436</td>\n",
              "      <td>0.012609</td>\n",
              "      <td>0.002501</td>\n",
              "      <td>0.002825</td>\n",
              "      <td>0.010535</td>\n",
              "      <td>0.011311</td>\n",
              "      <td>0.006958</td>\n",
              "      <td>0.002549</td>\n",
              "      <td>0.003484</td>\n",
              "      <td>0.002009</td>\n",
              "      <td>0.003615</td>\n",
              "      <td>0.001315</td>\n",
              "      <td>0.002119</td>\n",
              "      <td>0.002069</td>\n",
              "      <td>0.000875</td>\n",
              "      <td>0.001810</td>\n",
              "      <td>0.007370</td>\n",
              "      <td>0.005074</td>\n",
              "      <td>0.007282</td>\n",
              "      <td>0.006597</td>\n",
              "      <td>0.000513</td>\n",
              "      <td>0.000344</td>\n",
              "      <td>0.001907</td>\n",
              "      <td>0.007601</td>\n",
              "      <td>0.003402</td>\n",
              "      <td>0.000972</td>\n",
              "      <td>0.001707</td>\n",
              "      <td>0.002172</td>\n",
              "      <td>0.001176</td>\n",
              "      <td>0.004646</td>\n",
              "    </tr>\n",
              "    <tr>\n",
              "      <th>patient_id</th>\n",
              "      <td>0.009575</td>\n",
              "      <td>1.000000</td>\n",
              "      <td>0.007075</td>\n",
              "      <td>0.006343</td>\n",
              "      <td>0.001380</td>\n",
              "      <td>0.001387</td>\n",
              "      <td>0.002902</td>\n",
              "      <td>0.001770</td>\n",
              "      <td>0.004412</td>\n",
              "      <td>NaN</td>\n",
              "      <td>0.000275</td>\n",
              "      <td>0.001534</td>\n",
              "      <td>0.001539</td>\n",
              "      <td>0.004215</td>\n",
              "      <td>0.002260</td>\n",
              "      <td>0.003980</td>\n",
              "      <td>0.004292</td>\n",
              "      <td>0.002860</td>\n",
              "      <td>0.004134</td>\n",
              "      <td>0.003811</td>\n",
              "      <td>0.001551</td>\n",
              "      <td>0.002216</td>\n",
              "      <td>0.006673</td>\n",
              "      <td>0.000471</td>\n",
              "      <td>0.000270</td>\n",
              "      <td>0.004735</td>\n",
              "      <td>0.002944</td>\n",
              "      <td>0.001303</td>\n",
              "      <td>0.002413</td>\n",
              "      <td>0.006433</td>\n",
              "      <td>0.006433</td>\n",
              "      <td>0.001393</td>\n",
              "      <td>0.006994</td>\n",
              "      <td>0.000179</td>\n",
              "      <td>0.011433</td>\n",
              "      <td>0.002535</td>\n",
              "      <td>0.006058</td>\n",
              "      <td>0.004433</td>\n",
              "      <td>0.002185</td>\n",
              "      <td>0.003669</td>\n",
              "      <td>...</td>\n",
              "      <td>0.012551</td>\n",
              "      <td>0.012819</td>\n",
              "      <td>0.004313</td>\n",
              "      <td>0.001757</td>\n",
              "      <td>0.011325</td>\n",
              "      <td>0.011179</td>\n",
              "      <td>0.004455</td>\n",
              "      <td>0.004550</td>\n",
              "      <td>0.009513</td>\n",
              "      <td>0.010086</td>\n",
              "      <td>0.000044</td>\n",
              "      <td>0.000180</td>\n",
              "      <td>0.000606</td>\n",
              "      <td>0.000672</td>\n",
              "      <td>0.000999</td>\n",
              "      <td>0.006809</td>\n",
              "      <td>0.000683</td>\n",
              "      <td>0.004415</td>\n",
              "      <td>0.001944</td>\n",
              "      <td>0.003621</td>\n",
              "      <td>0.006064</td>\n",
              "      <td>0.006501</td>\n",
              "      <td>0.003925</td>\n",
              "      <td>0.006113</td>\n",
              "      <td>0.003661</td>\n",
              "      <td>0.003633</td>\n",
              "      <td>0.001242</td>\n",
              "      <td>0.001541</td>\n",
              "      <td>0.000220</td>\n",
              "      <td>0.003382</td>\n",
              "      <td>0.003735</td>\n",
              "      <td>0.001625</td>\n",
              "      <td>0.002426</td>\n",
              "      <td>0.001307</td>\n",
              "      <td>0.000434</td>\n",
              "      <td>0.001667</td>\n",
              "      <td>0.000548</td>\n",
              "      <td>0.000844</td>\n",
              "      <td>0.002333</td>\n",
              "      <td>0.003065</td>\n",
              "    </tr>\n",
              "    <tr>\n",
              "      <th>hospital_id</th>\n",
              "      <td>0.004532</td>\n",
              "      <td>0.007075</td>\n",
              "      <td>1.000000</td>\n",
              "      <td>0.008673</td>\n",
              "      <td>0.012874</td>\n",
              "      <td>0.052123</td>\n",
              "      <td>0.027895</td>\n",
              "      <td>0.004526</td>\n",
              "      <td>0.001285</td>\n",
              "      <td>NaN</td>\n",
              "      <td>0.026314</td>\n",
              "      <td>0.011685</td>\n",
              "      <td>0.006806</td>\n",
              "      <td>0.031896</td>\n",
              "      <td>0.053985</td>\n",
              "      <td>0.000844</td>\n",
              "      <td>0.017921</td>\n",
              "      <td>0.014084</td>\n",
              "      <td>0.001126</td>\n",
              "      <td>0.014941</td>\n",
              "      <td>0.011727</td>\n",
              "      <td>0.020512</td>\n",
              "      <td>0.017576</td>\n",
              "      <td>0.002954</td>\n",
              "      <td>0.000057</td>\n",
              "      <td>0.007649</td>\n",
              "      <td>0.002436</td>\n",
              "      <td>0.027670</td>\n",
              "      <td>0.001011</td>\n",
              "      <td>0.020200</td>\n",
              "      <td>0.020200</td>\n",
              "      <td>0.006726</td>\n",
              "      <td>0.013026</td>\n",
              "      <td>0.023262</td>\n",
              "      <td>0.001482</td>\n",
              "      <td>0.033490</td>\n",
              "      <td>0.049851</td>\n",
              "      <td>0.030761</td>\n",
              "      <td>0.006752</td>\n",
              "      <td>0.007217</td>\n",
              "      <td>...</td>\n",
              "      <td>0.021403</td>\n",
              "      <td>0.018969</td>\n",
              "      <td>0.002463</td>\n",
              "      <td>0.007411</td>\n",
              "      <td>0.000334</td>\n",
              "      <td>0.006328</td>\n",
              "      <td>0.032203</td>\n",
              "      <td>0.030355</td>\n",
              "      <td>0.012734</td>\n",
              "      <td>0.023798</td>\n",
              "      <td>0.032732</td>\n",
              "      <td>0.025685</td>\n",
              "      <td>0.012899</td>\n",
              "      <td>0.012030</td>\n",
              "      <td>0.001688</td>\n",
              "      <td>0.016839</td>\n",
              "      <td>0.025894</td>\n",
              "      <td>0.000762</td>\n",
              "      <td>0.018122</td>\n",
              "      <td>0.005636</td>\n",
              "      <td>0.021170</td>\n",
              "      <td>0.014118</td>\n",
              "      <td>0.016317</td>\n",
              "      <td>0.021915</td>\n",
              "      <td>0.016632</td>\n",
              "      <td>0.010328</td>\n",
              "      <td>0.012004</td>\n",
              "      <td>0.029556</td>\n",
              "      <td>0.011965</td>\n",
              "      <td>0.018974</td>\n",
              "      <td>0.006993</td>\n",
              "      <td>0.000283</td>\n",
              "      <td>0.004947</td>\n",
              "      <td>0.002962</td>\n",
              "      <td>0.011978</td>\n",
              "      <td>0.001362</td>\n",
              "      <td>0.000146</td>\n",
              "      <td>0.002992</td>\n",
              "      <td>0.002588</td>\n",
              "      <td>0.004730</td>\n",
              "    </tr>\n",
              "    <tr>\n",
              "      <th>age</th>\n",
              "      <td>0.003990</td>\n",
              "      <td>0.006343</td>\n",
              "      <td>0.008673</td>\n",
              "      <td>1.000000</td>\n",
              "      <td>0.087077</td>\n",
              "      <td>0.067320</td>\n",
              "      <td>0.109937</td>\n",
              "      <td>0.024257</td>\n",
              "      <td>0.049872</td>\n",
              "      <td>NaN</td>\n",
              "      <td>0.127252</td>\n",
              "      <td>0.116633</td>\n",
              "      <td>0.022914</td>\n",
              "      <td>0.056060</td>\n",
              "      <td>0.059246</td>\n",
              "      <td>0.001684</td>\n",
              "      <td>0.044981</td>\n",
              "      <td>0.237187</td>\n",
              "      <td>0.056178</td>\n",
              "      <td>0.037935</td>\n",
              "      <td>0.026363</td>\n",
              "      <td>0.025843</td>\n",
              "      <td>0.007754</td>\n",
              "      <td>0.017829</td>\n",
              "      <td>0.007043</td>\n",
              "      <td>0.149495</td>\n",
              "      <td>0.118853</td>\n",
              "      <td>0.015396</td>\n",
              "      <td>0.015870</td>\n",
              "      <td>0.033000</td>\n",
              "      <td>0.033000</td>\n",
              "      <td>0.020300</td>\n",
              "      <td>0.046525</td>\n",
              "      <td>0.037328</td>\n",
              "      <td>0.037734</td>\n",
              "      <td>0.082265</td>\n",
              "      <td>0.176577</td>\n",
              "      <td>0.041296</td>\n",
              "      <td>0.010786</td>\n",
              "      <td>0.190410</td>\n",
              "      <td>...</td>\n",
              "      <td>0.120492</td>\n",
              "      <td>0.123719</td>\n",
              "      <td>0.107346</td>\n",
              "      <td>0.118262</td>\n",
              "      <td>0.007298</td>\n",
              "      <td>0.004765</td>\n",
              "      <td>0.103959</td>\n",
              "      <td>0.104354</td>\n",
              "      <td>0.041772</td>\n",
              "      <td>0.038608</td>\n",
              "      <td>0.029323</td>\n",
              "      <td>0.026215</td>\n",
              "      <td>0.052662</td>\n",
              "      <td>0.051740</td>\n",
              "      <td>0.041012</td>\n",
              "      <td>0.056249</td>\n",
              "      <td>0.047509</td>\n",
              "      <td>0.055960</td>\n",
              "      <td>0.019145</td>\n",
              "      <td>0.046020</td>\n",
              "      <td>0.134510</td>\n",
              "      <td>0.120910</td>\n",
              "      <td>0.048124</td>\n",
              "      <td>0.040310</td>\n",
              "      <td>0.097520</td>\n",
              "      <td>0.085530</td>\n",
              "      <td>0.004547</td>\n",
              "      <td>0.022349</td>\n",
              "      <td>0.101846</td>\n",
              "      <td>0.109365</td>\n",
              "      <td>0.143167</td>\n",
              "      <td>0.076275</td>\n",
              "      <td>0.029477</td>\n",
              "      <td>0.028065</td>\n",
              "      <td>0.077908</td>\n",
              "      <td>0.020061</td>\n",
              "      <td>0.025007</td>\n",
              "      <td>0.030310</td>\n",
              "      <td>0.023335</td>\n",
              "      <td>0.025924</td>\n",
              "    </tr>\n",
              "    <tr>\n",
              "      <th>bmi</th>\n",
              "      <td>0.001068</td>\n",
              "      <td>0.001380</td>\n",
              "      <td>0.012874</td>\n",
              "      <td>0.087077</td>\n",
              "      <td>1.000000</td>\n",
              "      <td>0.015921</td>\n",
              "      <td>0.056316</td>\n",
              "      <td>0.001403</td>\n",
              "      <td>0.001531</td>\n",
              "      <td>NaN</td>\n",
              "      <td>0.877339</td>\n",
              "      <td>0.052009</td>\n",
              "      <td>0.026047</td>\n",
              "      <td>0.006514</td>\n",
              "      <td>0.015420</td>\n",
              "      <td>0.005823</td>\n",
              "      <td>0.001372</td>\n",
              "      <td>0.049392</td>\n",
              "      <td>0.069176</td>\n",
              "      <td>0.036961</td>\n",
              "      <td>0.012927</td>\n",
              "      <td>0.021091</td>\n",
              "      <td>0.006613</td>\n",
              "      <td>0.028515</td>\n",
              "      <td>0.101440</td>\n",
              "      <td>0.021118</td>\n",
              "      <td>0.097660</td>\n",
              "      <td>0.037714</td>\n",
              "      <td>0.055916</td>\n",
              "      <td>0.180154</td>\n",
              "      <td>0.180154</td>\n",
              "      <td>0.105925</td>\n",
              "      <td>0.051723</td>\n",
              "      <td>0.001725</td>\n",
              "      <td>0.020509</td>\n",
              "      <td>0.038597</td>\n",
              "      <td>0.054969</td>\n",
              "      <td>0.071014</td>\n",
              "      <td>0.030684</td>\n",
              "      <td>0.065902</td>\n",
              "      <td>...</td>\n",
              "      <td>0.088263</td>\n",
              "      <td>0.081138</td>\n",
              "      <td>0.015615</td>\n",
              "      <td>0.020253</td>\n",
              "      <td>0.021472</td>\n",
              "      <td>0.021543</td>\n",
              "      <td>0.025035</td>\n",
              "      <td>0.025232</td>\n",
              "      <td>0.086406</td>\n",
              "      <td>0.087588</td>\n",
              "      <td>0.009267</td>\n",
              "      <td>0.011174</td>\n",
              "      <td>0.057844</td>\n",
              "      <td>0.058073</td>\n",
              "      <td>0.184355</td>\n",
              "      <td>0.185358</td>\n",
              "      <td>0.052204</td>\n",
              "      <td>0.060157</td>\n",
              "      <td>0.095337</td>\n",
              "      <td>0.109070</td>\n",
              "      <td>0.171880</td>\n",
              "      <td>0.169624</td>\n",
              "      <td>0.175489</td>\n",
              "      <td>0.177846</td>\n",
              "      <td>0.081631</td>\n",
              "      <td>0.077733</td>\n",
              "      <td>0.114104</td>\n",
              "      <td>0.122370</td>\n",
              "      <td>0.181301</td>\n",
              "      <td>0.178551</td>\n",
              "      <td>0.033546</td>\n",
              "      <td>0.013796</td>\n",
              "      <td>0.020434</td>\n",
              "      <td>0.002377</td>\n",
              "      <td>0.172943</td>\n",
              "      <td>0.001855</td>\n",
              "      <td>0.031144</td>\n",
              "      <td>0.013375</td>\n",
              "      <td>0.010017</td>\n",
              "      <td>0.043380</td>\n",
              "    </tr>\n",
              "  </tbody>\n",
              "</table>\n",
              "<p>5 rows × 177 columns</p>\n",
              "</div>"
            ],
            "text/plain": [
              "              encounter_id  patient_id  ...  lymphoma  solid_tumor_with_metastasis\n",
              "encounter_id      1.000000    0.009575  ...  0.001176                     0.004646\n",
              "patient_id        0.009575    1.000000  ...  0.002333                     0.003065\n",
              "hospital_id       0.004532    0.007075  ...  0.002588                     0.004730\n",
              "age               0.003990    0.006343  ...  0.023335                     0.025924\n",
              "bmi               0.001068    0.001380  ...  0.010017                     0.043380\n",
              "\n",
              "[5 rows x 177 columns]"
            ]
          },
          "metadata": {
            "tags": []
          },
          "execution_count": 35
        }
      ]
    },
    {
      "cell_type": "code",
      "metadata": {
        "id": "iSLkvYaPHQgJ",
        "outputId": "7dcf7762-d13c-4c63-f205-5674ec015fd2",
        "colab": {
          "base_uri": "https://localhost:8080/",
          "height": 35
        }
      },
      "source": [
        "upper = corr_matrix.where(np.triu(np.ones(corr_matrix.shape), k=1).astype(np.bool))\n",
        "upper.head()\n",
        "# Select columns with correlations above threshold\n",
        "to_drop = [column for column in upper.columns if any(upper[column] > threshold)]\n",
        "print('There are %d columns to remove.' % (len(to_drop)))\n",
        "#Drop the columns with high correlations\n",
        "X = X.drop(columns = to_drop)"
      ],
      "execution_count": null,
      "outputs": [
        {
          "output_type": "stream",
          "text": [
            "There are 59 columns to remove.\n"
          ],
          "name": "stdout"
        }
      ]
    },
    {
      "cell_type": "code",
      "metadata": {
        "id": "Urz60zMGHVQo",
        "outputId": "c2e728d4-624f-480e-bbc9-08373583142f",
        "colab": {
          "base_uri": "https://localhost:8080/",
          "height": 35
        }
      },
      "source": [
        "# Train missing values (in percent)\n",
        "train_missing = (X.isnull().sum() / len(X)).sort_values(ascending = False)\n",
        "train_missing.head()\n",
        "train_missing = train_missing.index[train_missing > 0.75]\n",
        "print('There are %d columns with more than 75%% missing values' % len(train_missing))\n",
        "X = X.drop(columns = train_missing)"
      ],
      "execution_count": null,
      "outputs": [
        {
          "output_type": "stream",
          "text": [
            "There are 18 columns with more than 75% missing values\n"
          ],
          "name": "stdout"
        }
      ]
    },
    {
      "cell_type": "code",
      "metadata": {
        "id": "-r-pLUhTHQjg"
      },
      "source": [
        "#Convert categorical variable into dummy/indicator variables.\n",
        "X = pd.get_dummies(X)"
      ],
      "execution_count": null,
      "outputs": []
    },
    {
      "cell_type": "code",
      "metadata": {
        "id": "_VdbaddjHX6g"
      },
      "source": [
        "# Initialize an empty array to hold feature importances\n",
        "feature_importances = np.zeros(X.shape[1])\n",
        "\n",
        "# Create the model with several hyperparameters\n",
        "model = lgb.LGBMClassifier(objective='binary', boosting_type = 'goss', n_estimators = 10000, class_weight = 'balanced')"
      ],
      "execution_count": null,
      "outputs": []
    },
    {
      "cell_type": "code",
      "metadata": {
        "id": "By3gjw7aIawb",
        "outputId": "8797bb87-c80e-4cfb-def5-77b8fa0cc134",
        "colab": {
          "base_uri": "https://localhost:8080/",
          "height": 139
        }
      },
      "source": [
        "  for i in range(2):\n",
        "    # Split into training and validation set\n",
        "    train_features, valid_features, train_y, valid_y = train_test_split(X, y, test_size = 0.25, random_state = i)\n",
        "    \n",
        "    # Train using early stopping\n",
        "    model.fit(train_features, train_y, early_stopping_rounds=100, eval_set = [(valid_features, valid_y)],eval_metric = 'auc', verbose = 200)\n",
        "    \n",
        "    # Record the feature importances\n",
        "    feature_importances += model.feature_importances_"
      ],
      "execution_count": null,
      "outputs": [
        {
          "output_type": "stream",
          "text": [
            "Training until validation scores don't improve for 100 rounds.\n",
            "Early stopping, best iteration is:\n",
            "[88]\tvalid_0's binary_logloss: 0.343391\tvalid_0's auc: 0.899394\n",
            "Training until validation scores don't improve for 100 rounds.\n",
            "[200]\tvalid_0's binary_logloss: 0.301481\tvalid_0's auc: 0.895847\n",
            "Early stopping, best iteration is:\n",
            "[142]\tvalid_0's binary_logloss: 0.323438\tvalid_0's auc: 0.897345\n"
          ],
          "name": "stdout"
        }
      ]
    },
    {
      "cell_type": "code",
      "metadata": {
        "id": "ZHZUbUfSIo4q",
        "outputId": "a50b9620-c6ed-45b1-b572-822097bc2acf",
        "colab": {
          "base_uri": "https://localhost:8080/",
          "height": 202
        }
      },
      "source": [
        "# Make sure to average feature importances! \n",
        "feature_importances = feature_importances / 2\n",
        "feature_importances = pd.DataFrame({'feature': list(X.columns), 'importance': feature_importances}).sort_values('importance', ascending = False)\n",
        "feature_importances.head()"
      ],
      "execution_count": null,
      "outputs": [
        {
          "output_type": "execute_result",
          "data": {
            "text/html": [
              "<div>\n",
              "<style scoped>\n",
              "    .dataframe tbody tr th:only-of-type {\n",
              "        vertical-align: middle;\n",
              "    }\n",
              "\n",
              "    .dataframe tbody tr th {\n",
              "        vertical-align: top;\n",
              "    }\n",
              "\n",
              "    .dataframe thead th {\n",
              "        text-align: right;\n",
              "    }\n",
              "</style>\n",
              "<table border=\"1\" class=\"dataframe\">\n",
              "  <thead>\n",
              "    <tr style=\"text-align: right;\">\n",
              "      <th></th>\n",
              "      <th>feature</th>\n",
              "      <th>importance</th>\n",
              "    </tr>\n",
              "  </thead>\n",
              "  <tbody>\n",
              "    <tr>\n",
              "      <th>90</th>\n",
              "      <td>apache_4a_hospital_death_prob</td>\n",
              "      <td>127.5</td>\n",
              "    </tr>\n",
              "    <tr>\n",
              "      <th>76</th>\n",
              "      <td>d1_lactate_min</td>\n",
              "      <td>97.0</td>\n",
              "    </tr>\n",
              "    <tr>\n",
              "      <th>3</th>\n",
              "      <td>age</td>\n",
              "      <td>93.5</td>\n",
              "    </tr>\n",
              "    <tr>\n",
              "      <th>7</th>\n",
              "      <td>icu_id</td>\n",
              "      <td>80.5</td>\n",
              "    </tr>\n",
              "    <tr>\n",
              "      <th>38</th>\n",
              "      <td>d1_heartrate_min</td>\n",
              "      <td>80.0</td>\n",
              "    </tr>\n",
              "  </tbody>\n",
              "</table>\n",
              "</div>"
            ],
            "text/plain": [
              "                          feature  importance\n",
              "90  apache_4a_hospital_death_prob       127.5\n",
              "76                 d1_lactate_min        97.0\n",
              "3                             age        93.5\n",
              "7                          icu_id        80.5\n",
              "38               d1_heartrate_min        80.0"
            ]
          },
          "metadata": {
            "tags": []
          },
          "execution_count": 41
        }
      ]
    },
    {
      "cell_type": "code",
      "metadata": {
        "id": "WBhb5jogIcRS",
        "outputId": "13286fa7-5b22-4cf8-a220-167d0e060fe8",
        "colab": {
          "base_uri": "https://localhost:8080/",
          "height": 35
        }
      },
      "source": [
        "# Find the features with zero importance\n",
        "zero_features = list(feature_importances[feature_importances['importance'] == 0.0]['feature'])\n",
        "print('There are %d features with 0.0 importance' % len(zero_features))\n",
        "feature_importances.tail()\n",
        "# Drop features with zero importance\n",
        "X = X.drop(columns = zero_features)"
      ],
      "execution_count": null,
      "outputs": [
        {
          "output_type": "stream",
          "text": [
            "There are 30 features with 0.0 importance\n"
          ],
          "name": "stdout"
        }
      ]
    },
    {
      "cell_type": "code",
      "metadata": {
        "id": "OyfOiTU-Jlaw"
      },
      "source": [
        "def plot_feature_importances(df, threshold = 0.9):\n",
        "    plt.rcParams['font.size'] = 18\n",
        "    \n",
        "    # Sort features according to importance\n",
        "    df = df.sort_values('importance', ascending = False).reset_index()\n",
        "    \n",
        "    # Normalize the feature importances to add up to one\n",
        "    df['importance_normalized'] = df['importance'] / df['importance'].sum()\n",
        "    df['cumulative_importance'] = np.cumsum(df['importance_normalized'])\n",
        "\n",
        "    # Make a horizontal bar chart of feature importances\n",
        "    plt.figure(figsize = (10, 6))\n",
        "    ax = plt.subplot()\n",
        "   # Need to reverse the index to plot most important on top\n",
        "    ax.barh(list(reversed(list(df.index[:15]))), \n",
        "            df['importance_normalized'].head(15), \n",
        "            align = 'center', edgecolor = 'k')\n",
        "    \n",
        "    # Set the yticks and labels\n",
        "    ax.set_yticks(list(reversed(list(df.index[:15]))))\n",
        "    ax.set_yticklabels(df['feature'].head(15))\n",
        "    \n",
        "    # Plot labeling\n",
        "    plt.xlabel('Normalized Importance'); plt.title('Feature Importances')\n",
        "    plt.show()\n",
        "    \n",
        "    # Cumulative importance plot\n",
        "    plt.figure(figsize = (8, 6))\n",
        "    plt.plot(list(range(len(df))), df['cumulative_importance'], 'r-')\n",
        "    plt.xlabel('Number of Features'); plt.ylabel('Cumulative Importance'); \n",
        "    plt.title('Cumulative Feature Importance');\n",
        "    plt.show();\n",
        "    \n",
        "    importance_index = np.min(np.where(df['cumulative_importance'] > threshold))\n",
        "    print('%d features required for %0.2f of cumulative importance' % (importance_index + 1, threshold))\n",
        "    \n",
        "    return df"
      ],
      "execution_count": null,
      "outputs": []
    },
    {
      "cell_type": "code",
      "metadata": {
        "id": "5QGY0-xfJvj7",
        "outputId": "8c6362d0-722f-411a-c015-5e1a0d70b8a5",
        "colab": {
          "base_uri": "https://localhost:8080/",
          "height": 853
        }
      },
      "source": [
        "norm_feature_importances = plot_feature_importances(feature_importances)"
      ],
      "execution_count": null,
      "outputs": [
        {
          "output_type": "display_data",
          "data": {
            "image/png": "[encoded data removed]",
            "text/plain": [
              "<Figure size 720x432 with 1 Axes>"
            ]
          },
          "metadata": {
            "tags": []
          }
        },
        {
          "output_type": "display_data",
          "data": {
            "image/png": "[encoded data removed]",
            "text/plain": [
              "<Figure size 576x432 with 1 Axes>"
            ]
          },
          "metadata": {
            "tags": []
          }
        },
        {
          "output_type": "stream",
          "text": [
            "73 features required for 0.90 of cumulative importance\n"
          ],
          "name": "stdout"
        }
      ]
    },
    {
      "cell_type": "code",
      "metadata": {
        "id": "OarQ9jSJJ4Ry"
      },
      "source": [
        "imp_features=list(norm_feature_importances['feature'][0:80])"
      ],
      "execution_count": null,
      "outputs": []
    },
    {
      "cell_type": "code",
      "metadata": {
        "id": "seYfly5GKN2m",
        "outputId": "39d706ed-7fd5-4630-a4f7-28ffe8f83272",
        "colab": {
          "base_uri": "https://localhost:8080/",
          "height": 1000
        }
      },
      "source": [
        "imp_features"
      ],
      "execution_count": null,
      "outputs": [
        {
          "output_type": "execute_result",
          "data": {
            "text/plain": [
              "['apache_4a_hospital_death_prob',\n",
              " 'd1_lactate_min',\n",
              " 'age',\n",
              " 'icu_id',\n",
              " 'd1_heartrate_min',\n",
              " 'apache_4a_icu_death_prob',\n",
              " 'd1_platelets_max',\n",
              " 'apache_3j_diagnosis',\n",
              " 'd1_spo2_min',\n",
              " 'pre_icu_los_days',\n",
              " 'wbc_apache',\n",
              " 'bun_apache',\n",
              " 'urineoutput_apache',\n",
              " 'bmi',\n",
              " 'd1_temp_max',\n",
              " 'creatinine_apache',\n",
              " 'd1_glucose_min',\n",
              " 'd1_sysbp_min',\n",
              " 'd1_hemaglobin_max',\n",
              " 'd1_resprate_min',\n",
              " 'glucose_apache',\n",
              " 'd1_sysbp_max',\n",
              " 'd1_mbp_min',\n",
              " 'd1_temp_min',\n",
              " 'd1_sodium_max',\n",
              " 'apache_2_diagnosis',\n",
              " 'hematocrit_apache',\n",
              " 'temp_apache',\n",
              " 'd1_heartrate_max',\n",
              " 'bilirubin_apache',\n",
              " 'h1_heartrate_max',\n",
              " 'd1_pao2fio2ratio_max',\n",
              " 'd1_inr_max',\n",
              " 'd1_resprate_max',\n",
              " 'd1_hco3_max',\n",
              " 'd1_arterial_ph_min',\n",
              " 'h1_glucose_max',\n",
              " 'd1_arterial_pco2_max',\n",
              " 'd1_arterial_po2_min',\n",
              " 'weight',\n",
              " 'd1_pao2fio2ratio_min',\n",
              " 'resprate_apache',\n",
              " 'h1_resprate_min',\n",
              " 'map_apache',\n",
              " 'h1_sysbp_min',\n",
              " 'hospital_id',\n",
              " 'd1_diasbp_max',\n",
              " 'heart_rate_apache',\n",
              " 'height',\n",
              " 'd1_hco3_min',\n",
              " 'd1_arterial_po2_max',\n",
              " 'h1_temp_max',\n",
              " 'h1_sysbp_max',\n",
              " 'patient_id',\n",
              " 'd1_mbp_max',\n",
              " 'd1_potassium_max',\n",
              " 'h1_spo2_min',\n",
              " 'd1_potassium_min',\n",
              " 'd1_arterial_ph_max',\n",
              " 'h1_diasbp_max',\n",
              " 'h1_diasbp_min',\n",
              " 'd1_arterial_pco2_min',\n",
              " 'd1_lactate_max',\n",
              " 'h1_mbp_min',\n",
              " 'd1_diasbp_min',\n",
              " 'h1_heartrate_min',\n",
              " 'd1_inr_min',\n",
              " 'albumin_apache',\n",
              " 'd1_calcium_min',\n",
              " 'sodium_apache',\n",
              " 'encounter_id',\n",
              " 'd1_calcium_max',\n",
              " 'd1_sysbp_invasive_min',\n",
              " 'h1_mbp_max',\n",
              " 'd1_sysbp_invasive_max',\n",
              " 'h1_temp_min',\n",
              " 'gcs_motor_apache',\n",
              " 'd1_mbp_invasive_min',\n",
              " 'd1_diasbp_invasive_max',\n",
              " 'd1_mbp_invasive_max']"
            ]
          },
          "metadata": {
            "tags": []
          },
          "execution_count": 46
        }
      ]
    },
    {
      "cell_type": "code",
      "metadata": {
        "id": "t4ULKEuMKPc9",
        "outputId": "f0354abc-a6c6-4e1e-c01c-1d83c4a418ed",
        "colab": {
          "base_uri": "https://localhost:8080/",
          "height": 35
        }
      },
      "source": [
        "x2=X1[imp_features]\n",
        "x2.shape"
      ],
      "execution_count": null,
      "outputs": [
        {
          "output_type": "execute_result",
          "data": {
            "text/plain": [
              "(91713, 80)"
            ]
          },
          "metadata": {
            "tags": []
          },
          "execution_count": 47
        }
      ]
    },
    {
      "cell_type": "code",
      "metadata": {
        "id": "lggMC56Q-ays"
      },
      "source": [
        ""
      ],
      "execution_count": null,
      "outputs": []
    },
    {
      "cell_type": "code",
      "metadata": {
        "id": "LJhqLn3rL44z"
      },
      "source": [
        "X_train=x2.copy()\n",
        "Y_train=pd.DataFrame(training_v2['hospital_death'])"
      ],
      "execution_count": null,
      "outputs": []
    },
    {
      "cell_type": "code",
      "metadata": {
        "id": "LtzogidfxR9F",
        "outputId": "f7bcffb5-bada-475e-fd47-2413e647b827",
        "colab": {
          "base_uri": "https://localhost:8080/",
          "height": 415
        }
      },
      "source": [
        "#X_train.shape\n",
        "Y_train.shape\n",
        "Y_train"
      ],
      "execution_count": null,
      "outputs": [
        {
          "output_type": "execute_result",
          "data": {
            "text/html": [
              "<div>\n",
              "<style scoped>\n",
              "    .dataframe tbody tr th:only-of-type {\n",
              "        vertical-align: middle;\n",
              "    }\n",
              "\n",
              "    .dataframe tbody tr th {\n",
              "        vertical-align: top;\n",
              "    }\n",
              "\n",
              "    .dataframe thead th {\n",
              "        text-align: right;\n",
              "    }\n",
              "</style>\n",
              "<table border=\"1\" class=\"dataframe\">\n",
              "  <thead>\n",
              "    <tr style=\"text-align: right;\">\n",
              "      <th></th>\n",
              "      <th>hospital_death</th>\n",
              "    </tr>\n",
              "  </thead>\n",
              "  <tbody>\n",
              "    <tr>\n",
              "      <th>0</th>\n",
              "      <td>0</td>\n",
              "    </tr>\n",
              "    <tr>\n",
              "      <th>1</th>\n",
              "      <td>0</td>\n",
              "    </tr>\n",
              "    <tr>\n",
              "      <th>2</th>\n",
              "      <td>0</td>\n",
              "    </tr>\n",
              "    <tr>\n",
              "      <th>3</th>\n",
              "      <td>0</td>\n",
              "    </tr>\n",
              "    <tr>\n",
              "      <th>4</th>\n",
              "      <td>0</td>\n",
              "    </tr>\n",
              "    <tr>\n",
              "      <th>...</th>\n",
              "      <td>...</td>\n",
              "    </tr>\n",
              "    <tr>\n",
              "      <th>91708</th>\n",
              "      <td>0</td>\n",
              "    </tr>\n",
              "    <tr>\n",
              "      <th>91709</th>\n",
              "      <td>0</td>\n",
              "    </tr>\n",
              "    <tr>\n",
              "      <th>91710</th>\n",
              "      <td>0</td>\n",
              "    </tr>\n",
              "    <tr>\n",
              "      <th>91711</th>\n",
              "      <td>0</td>\n",
              "    </tr>\n",
              "    <tr>\n",
              "      <th>91712</th>\n",
              "      <td>0</td>\n",
              "    </tr>\n",
              "  </tbody>\n",
              "</table>\n",
              "<p>91713 rows × 1 columns</p>\n",
              "</div>"
            ],
            "text/plain": [
              "       hospital_death\n",
              "0                   0\n",
              "1                   0\n",
              "2                   0\n",
              "3                   0\n",
              "4                   0\n",
              "...               ...\n",
              "91708               0\n",
              "91709               0\n",
              "91710               0\n",
              "91711               0\n",
              "91712               0\n",
              "\n",
              "[91713 rows x 1 columns]"
            ]
          },
          "metadata": {
            "tags": []
          },
          "execution_count": 53
        }
      ]
    },
    {
      "cell_type": "code",
      "metadata": {
        "id": "ZNfdwU1v_A25",
        "outputId": "798c955b-ad54-4a53-be28-80fc11b08cd6",
        "colab": {
          "base_uri": "https://localhost:8080/",
          "height": 35
        }
      },
      "source": [
        "X_train.shape"
      ],
      "execution_count": null,
      "outputs": [
        {
          "output_type": "execute_result",
          "data": {
            "text/plain": [
              "(91713, 80)"
            ]
          },
          "metadata": {
            "tags": []
          },
          "execution_count": 55
        }
      ]
    },
    {
      "cell_type": "code",
      "metadata": {
        "id": "Ux_iT0N55yyu",
        "outputId": "ec5854b9-96bf-493b-c112-a95ebd3c7013",
        "colab": {
          "base_uri": "https://localhost:8080/",
          "height": 35
        }
      },
      "source": [
        "X_train.shape"
      ],
      "execution_count": null,
      "outputs": [
        {
          "output_type": "execute_result",
          "data": {
            "text/plain": [
              "(91713, 80)"
            ]
          },
          "metadata": {
            "tags": []
          },
          "execution_count": 24
        }
      ]
    },
    {
      "cell_type": "markdown",
      "metadata": {
        "id": "VHzJaO8_xO_3"
      },
      "source": [
        ""
      ]
    },
    {
      "cell_type": "code",
      "metadata": {
        "id": "0V-Q1H00Lxeo"
      },
      "source": [
        "Y_test = pd.DataFrame(test['hospital_death'])\n",
        "X_test = test.copy()\n",
        "X_test=X_test[imp_features]\n"
      ],
      "execution_count": null,
      "outputs": []
    },
    {
      "cell_type": "code",
      "metadata": {
        "id": "BGbfSK6e53Nw",
        "outputId": "cdf9485f-eb9d-415a-ca48-380868ed6d1b",
        "colab": {
          "base_uri": "https://localhost:8080/",
          "height": 35
        }
      },
      "source": [
        "X_train.shape"
      ],
      "execution_count": null,
      "outputs": [
        {
          "output_type": "execute_result",
          "data": {
            "text/plain": [
              "(91713, 80)"
            ]
          },
          "metadata": {
            "tags": []
          },
          "execution_count": 57
        }
      ]
    },
    {
      "cell_type": "code",
      "metadata": {
        "id": "3vdLEOsh56F3",
        "outputId": "a0381178-03e5-4846-d09f-b54c3805886f",
        "colab": {
          "base_uri": "https://localhost:8080/",
          "height": 35
        }
      },
      "source": [
        "Y_train.shape"
      ],
      "execution_count": null,
      "outputs": [
        {
          "output_type": "execute_result",
          "data": {
            "text/plain": [
              "(91713, 1)"
            ]
          },
          "metadata": {
            "tags": []
          },
          "execution_count": 58
        }
      ]
    },
    {
      "cell_type": "code",
      "metadata": {
        "id": "xmmUuJbgMLRv"
      },
      "source": [
        "X_train.to_csv(\"X_train.csv\",index=False)\n",
        "Y_train.to_csv(\"Y_train.csv\",index=False)\n",
        "X_test.to_csv(\"X_test.csv\",index=False)\n",
        "Y_test.to_csv(\"Y_test.csv\",index=False)\n"
      ],
      "execution_count": null,
      "outputs": []
    },
    {
      "cell_type": "code",
      "metadata": {
        "id": "cuDtNMiAMpYG"
      },
      "source": [
        "from google.colab import files\n",
        "files.download('X_train.csv')"
      ],
      "execution_count": null,
      "outputs": []
    },
    {
      "cell_type": "code",
      "metadata": {
        "id": "AMHomSo7M4M8"
      },
      "source": [
        "files.download('Y_train.csv')"
      ],
      "execution_count": null,
      "outputs": []
    },
    {
      "cell_type": "code",
      "metadata": {
        "id": "lVvzfHivNA6B"
      },
      "source": [
        "files.download('X_test.csv')"
      ],
      "execution_count": null,
      "outputs": []
    },
    {
      "cell_type": "code",
      "metadata": {
        "id": "Hqt4NIIZNGG8"
      },
      "source": [
        "files.download('Y_test.csv')"
      ],
      "execution_count": null,
      "outputs": []
    }
  ]
}